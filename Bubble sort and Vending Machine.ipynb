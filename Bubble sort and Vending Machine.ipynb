{
 "cells": [
  {
   "cell_type": "markdown",
   "metadata": {},
   "source": [
    "# Practice Coding Questions"
   ]
  },
  {
   "cell_type": "markdown",
   "metadata": {},
   "source": [
    "Includes attempts in Huffman coding"
   ]
  },
  {
   "cell_type": "markdown",
   "metadata": {},
   "source": [
    "Question 1: Implement bubble sort algorithm"
   ]
  },
  {
   "cell_type": "code",
   "execution_count": null,
   "metadata": {},
   "outputs": [],
   "source": [
    "def min_value(list):\n",
    "    min = list[0]\n",
    "    for value in list:\n",
    "        if value<min:\n",
    "            min = value\n",
    "    return min"
   ]
  },
  {
   "cell_type": "code",
   "execution_count": null,
   "metadata": {},
   "outputs": [],
   "source": [
    "def bubble_sort(list):\n",
    "    for i in range(0,len(list)-1):\n",
    "        if list[i+1]<list[i]:\n",
    "            temp = list[i]\n",
    "            list[i] = list[i+1]\n",
    "            list[i+1] = temp\n",
    "    while min_value(list) != list[0]:\n",
    "        bubble_sort(list)\n",
    "    return list"
   ]
  },
  {
   "cell_type": "code",
   "execution_count": null,
   "metadata": {},
   "outputs": [],
   "source": [
    "example = [4,5,2,3,1,9]\n",
    "bubble_sort(example)\n",
    "print(example)"
   ]
  },
  {
   "cell_type": "markdown",
   "metadata": {},
   "source": [
    "Question 2: How do you design a vending machine with the following requirements: \n",
    " 1) Accepts coins of 1,5,10,25 Cents i.e. penny, nickel, dime, and quarter.\n",
    " 2) Allow user to select products Coke(25), Pepsi(35), Soda(45)\n",
    " 3) Allow user to take refund by canceling the request.\n",
    " 4) Return selected product and remaining change if any\n",
    " 5) Allow reset operation for vending machine supplier.\n",
    " \n",
    " Note: We are working with a machine that takes in names of product you want"
   ]
  },
  {
   "cell_type": "code",
   "execution_count": 1,
   "metadata": {},
   "outputs": [],
   "source": [
    "class Vending_Machine():\n",
    "    ''' Vending Machine class that includes dictionary of item labels, price, and amount left. Includes\n",
    "    the profit made by vending machine. Methods are initializing, input/output, and reset.\n",
    "    In_and_out:\n",
    "    1) Get user input. Consider cases where user inputs invalid product or if product not available\n",
    "    2) When input is valid, ask user to enter a certain price. Consider cases where user input invalid \n",
    "    set of coins. After inputting valid set, calculate total. Give back change depending on how much inputted, remove one\n",
    "    item from corresponding dict value, add to total amount in machine.\n",
    "    \n",
    "    '''\n",
    "    #First initialize items dictionary and amount that the machine has from sales\n",
    "    def __init__(self,items):\n",
    "        self.items = items\n",
    "        self.amount = 0\n",
    "    \n",
    "    def user_in(self):\n",
    "        #Ask user what they want \n",
    "        name = input('What product would you like?')\n",
    "        while (self.items).get(name,None) == None:\n",
    "            print('Please choose a valid product')\n",
    "        \n",
    "        #IF the machine is out of that product:\n",
    "        while ((self.items).get(name))[0] == 0:\n",
    "            print('Sorry, that item is currently out of stock.')\n",
    "            name = input('Please choose another or type in cancel')\n",
    "            \n",
    "        if name == 'Cancel':\n",
    "            print('Okay! See you next time')\n",
    "            return 0\n",
    "        return name\n",
    "        \n",
    "    #NOTE: Later add complexity of keeping track of how many of each coin are entered! Then \n",
    "    #the change you give back should be a combo of all the coins the machine has. To do this, good idea to create a \"bank\"\n",
    "    #dictionary to hold how much money the machine has\n",
    "    def user_out(self,name):\n",
    "        ''' Considers output cases as listed at beginning of class\n",
    "        Outputs how much they paid so that a refund can be given if they press cancel in main program.'''\n",
    "        #Now, as long as they didn't press cancel and entered a valid, available product, \n",
    "        #Ask user to pay, and show output. NOTE: User must enter what he/she paid in terms of 1, 5, 10, 25 \n",
    "        #cent coins used.For example, if they paid 10 cents with a bunch of coins, they could do 1,5,1,1,1,1\n",
    "        total = 0\n",
    "        while total < ((self.items).get(name))[1]:\n",
    "            #If it is the first entry, just print amount and instructions\n",
    "            if total == 0:\n",
    "                payment = input(\"That will be {} cents! Please enter each coin value separated by a comma\".format(((self.items).get(name))[1]))\n",
    "            else:\n",
    "                payment = input('We only accept 1,5,10 or 25 cent coins! Please enter {} more cents in the prev format:'.format(amount_left))\n",
    "            payment = payment.split(',')#Now a list with only char's (of numbers)\n",
    "          \n",
    "            #Go through each coin value and add to total as long as the coin is valid\n",
    "            #If coin isn't valid, calculate the amount left and break the loop. Then it'll go back to while statement\n",
    "            #and check if total is less than amount needed...\n",
    "            for i in range(0,len(payment)):\n",
    "                if (payment[i]=='1' or payment[i]=='5' or payment[i]=='10' or payment[i]=='25'):\n",
    "                    total+=int(payment[i])\n",
    "                else:\n",
    "                    amount_left = ((self.items).get(name))[1]-total\n",
    "                    break\n",
    "        print('Thank you for buying 1 {}'.format(name))\n",
    "        self.amount+=total #Add what they paid to amount in machine\n",
    "        ((self.items).get(name))[0]-=1 #Reduce number of items by 1\n",
    "        #Now, if they paid more than the cost, calculate change and return\n",
    "        if total > ((self.items).get(name)[1]):\n",
    "            change = total - ((self.items).get(name))[1]\n",
    "            if amount > change:\n",
    "                print('Here is your change of {} cents'.format(change))\n",
    "                amount-=change\n",
    "            else:\n",
    "                print('Sorry, we are unable to provide change')\n",
    "                return total\n",
    "        return total\n",
    "            \n",
    "    def return_item(self,item_name):\n",
    "        #First, find item in dict\n",
    "        if (((self.items).get(item_name, None)) != None):\n",
    "            #If there is enough money for full refund..\n",
    "            if self.items.get(item_name)[1] < self.amount:\n",
    "                (self.items.get(item_name)[0])+=1\n",
    "                self.amount -= (self.items.get(item_name)[1])\n",
    "            else:\n",
    "                decision = input('Sorry, we cannot give you a full refund at this time. Would you still like to return the item?')\n",
    "                if decision = 'Yes' or decision = 'yes':\n",
    "                    (self.items.get(item_name)[0])+=1           \n",
    "                    \n",
    "                \n",
    "    def reset(self, items):\n",
    "        self.items = items\n",
    "        self.amount = 0\n",
    "        print('The machine has been reset to the specified items with 0 cents inside')\n",
    "        \n",
    "            \n",
    "#ADDITIONAL thought: HOW do we deal with cancel button at any time? \n",
    "\n",
    "  \n"
   ]
  },
  {
   "cell_type": "code",
   "execution_count": 2,
   "metadata": {},
   "outputs": [
    {
     "name": "stdout",
     "output_type": "stream",
     "text": [
      "What product would you like?Coke\n",
      "Are you sure you want to proceed? You cannot cancel later:Y\n",
      "That will be 25 cents! Please enter each coin value separated by a comma5,2,10,20\n",
      "We only accept 1,5,10 or 25 cent coins! Please enter 20 more cents in the prev format:5,10,15\n",
      "We only accept 1,5,10 or 25 cent coins! Please enter 5 more cents in the prev format:5\n",
      "Thank you for buying 1 Coke\n"
     ]
    }
   ],
   "source": [
    "\n",
    "Drink_Machine = Vending_Machine({'Coke':[10,25],'Pepsi':[10,35],'Soda':[10,45]})\n",
    "product = Drink_Machine.user_in()\n",
    "if product!= 0:\n",
    "    proceed_or_not = input('Are you sure you want to proceed? You cannot cancel later:')\n",
    "    if proceed_or_not == 'Y':\n",
    "        paid = Drink_Machine.user_out(product)\n",
    "    \n",
    "#Now, ask them if they want to return an item and receive a refund.. then run return_item method"
   ]
  },
  {
   "cell_type": "markdown",
   "metadata": {},
   "source": [
    "Question 3: How do you swap two numbers without using a third variable? (Unlikely to be a python interview q)"
   ]
  },
  {
   "cell_type": "code",
   "execution_count": 4,
   "metadata": {},
   "outputs": [],
   "source": [
    "a = 3\n",
    "b = 4\n",
    "a,b = b,a\n",
    "#OR\n",
    "a = a+b\n",
    "b = a-b\n",
    "a = a-b \n",
    "#BUT... this won't work in Java b/c could cause integer overflow"
   ]
  }
 ],
 "metadata": {
  "kernelspec": {
   "display_name": "Python 3",
   "language": "python",
   "name": "python3"
  },
  "language_info": {
   "codemirror_mode": {
    "name": "ipython",
    "version": 3
   },
   "file_extension": ".py",
   "mimetype": "text/x-python",
   "name": "python",
   "nbconvert_exporter": "python",
   "pygments_lexer": "ipython3",
   "version": "3.7.7"
  }
 },
 "nbformat": 4,
 "nbformat_minor": 4
}
