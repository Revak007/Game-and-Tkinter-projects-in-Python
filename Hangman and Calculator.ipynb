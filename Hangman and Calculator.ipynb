{
 "cells": [
  {
   "cell_type": "markdown",
   "metadata": {},
   "source": [
    "# Projects in Python, including using tkinter"
   ]
  },
  {
   "cell_type": "markdown",
   "metadata": {},
   "source": [
    "Project 1- Hangman"
   ]
  },
  {
   "cell_type": "code",
   "execution_count": 1,
   "metadata": {},
   "outputs": [],
   "source": [
    "def find_letters(word, letter):\n",
    "    indices = {}\n",
    "    for l in range(len(word)):\n",
    "        if word[l]==letter and letter not in indices:\n",
    "            indices[letter] = [l]\n",
    "        elif word[l]==letter and letter in indices:\n",
    "            indices[letter].append(l)\n",
    "    return indices\n",
    "            "
   ]
  },
  {
   "cell_type": "code",
   "execution_count": 2,
   "metadata": {},
   "outputs": [
    {
     "name": "stdout",
     "output_type": "stream",
     "text": [
      "What is your word?Lottery\n",
      "What is your guess?l\n",
      "Correct! You guessed 1 letters correctly. You have 6 letters left to guess,and 10 errors left.\n",
      "What is your guess?y\n",
      "Correct! You guessed 1 letters correctly. You have 5 letters left to guess,and 10 errors left.\n",
      "What is your guess?r\n",
      "Correct! You guessed 1 letters correctly. You have 4 letters left to guess,and 10 errors left.\n",
      "What is your guess?t\n",
      "Correct! You guessed 2 letters correctly. You have 2 letters left to guess,and 10 errors left.\n",
      "What is your guess?w\n",
      "Head is drawn\n",
      "What is your guess?e\n",
      "Correct! You guessed 1 letters correctly. You have 1 letters left to guess,and 9 errors left.\n",
      "What is your guess?o\n",
      "Correct! You guessed 1 letters correctly. You have 0 letters left to guess,and 9 errors left.\n",
      "Congrats! You won\n"
     ]
    }
   ],
   "source": [
    "word = input('What is your word?').lower()\n",
    "#9 errors- head, body, each arm, each leg, each eye, nose, mouth\n",
    "errors = 10\n",
    "err_messages = ['Head is drawn','Body is drawn','Left arm drawn','Right arm drawn',\n",
    "               'Left leg drawn','Right leg drawn', 'Left eye drawn','Right eye drawn','Nose drawn','Sad mouth drawn']\n",
    "letters = len(word)\n",
    "#Every time a letter is correctly guessed, subtract 1/more from guesses\n",
    "guesses = len(word)\n",
    "while (guesses>0 and errors>0):\n",
    "    #Ask for a guess\n",
    "    letter = input('What is your guess?')\n",
    "    #Go through every letter of actual word and find indices where the guessed letter exists. If >1 or 1 index exists..\n",
    "    #..subtract from guesses. If not, subtract from errors and print out what has been drawn, how many letters left to guess,\n",
    "    #..and how many errors you have left\n",
    "    \n",
    "    indices = find_letters(word,letter)\n",
    "    if len(indices) == 0:\n",
    "        print(err_messages[10-errors])\n",
    "        errors-=1\n",
    "    else:\n",
    "        guesses-=len(indices[letter])\n",
    "        print('Correct! You guessed {} letters correctly. You have {} letters left to guess,'\n",
    "              'and {} errors left.'.format(len(indices[letter]), guesses, errors))\n",
    " \n",
    "if errors>0 and guesses<=0:\n",
    "    print('Congrats! You won')\n",
    "else:\n",
    "    print('Too bad, better luck next time')\n",
    "\n",
    "        \n",
    "    "
   ]
  },
  {
   "cell_type": "markdown",
   "metadata": {},
   "source": [
    "Project 2- Build a calculator using tkinter"
   ]
  },
  {
   "cell_type": "code",
   "execution_count": 3,
   "metadata": {},
   "outputs": [],
   "source": [
    "#tkinter is Python's standard GUI (graphical user interface) on which we will build the calculator\n",
    "from tkinter import *\n",
    "import parser\n",
    "from math import factorial\n",
    "\n",
    "#Make a window for the calculator\n",
    "root = Tk()\n",
    "root.title('Calculator')\n",
    "root.mainloop()\n",
    "\n",
    "#Now define the buttons on the calculator\n"
   ]
  }
 ],
 "metadata": {
  "kernelspec": {
   "display_name": "Python 3",
   "language": "python",
   "name": "python3"
  },
  "language_info": {
   "codemirror_mode": {
    "name": "ipython",
    "version": 3
   },
   "file_extension": ".py",
   "mimetype": "text/x-python",
   "name": "python",
   "nbconvert_exporter": "python",
   "pygments_lexer": "ipython3",
   "version": "3.7.7"
  }
 },
 "nbformat": 4,
 "nbformat_minor": 4
}
